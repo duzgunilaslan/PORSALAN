{
 "cells": [
  {
   "cell_type": "code",
   "execution_count": 3,
   "id": "166d00de",
   "metadata": {},
   "outputs": [],
   "source": [
    "import pandas as pd"
   ]
  },
  {
   "cell_type": "markdown",
   "id": "d7609011",
   "metadata": {},
   "source": [
    "# EDA"
   ]
  },
  {
   "cell_type": "code",
   "execution_count": 88,
   "id": "615541e3",
   "metadata": {},
   "outputs": [],
   "source": [
    "# Read the dataset\n",
    "dataset = pd.read_excel(\"EREGL.xlsx\")"
   ]
  },
  {
   "cell_type": "code",
   "execution_count": 89,
   "id": "89630113",
   "metadata": {},
   "outputs": [
    {
     "data": {
      "text/html": [
       "<div>\n",
       "<style scoped>\n",
       "    .dataframe tbody tr th:only-of-type {\n",
       "        vertical-align: middle;\n",
       "    }\n",
       "\n",
       "    .dataframe tbody tr th {\n",
       "        vertical-align: top;\n",
       "    }\n",
       "\n",
       "    .dataframe thead th {\n",
       "        text-align: right;\n",
       "    }\n",
       "</style>\n",
       "<table border=\"1\" class=\"dataframe\">\n",
       "  <thead>\n",
       "    <tr style=\"text-align: right;\">\n",
       "      <th></th>\n",
       "      <th>Date</th>\n",
       "      <th>Open</th>\n",
       "      <th>High</th>\n",
       "      <th>Low</th>\n",
       "      <th>Close</th>\n",
       "      <th>Volume</th>\n",
       "      <th>Difference</th>\n",
       "    </tr>\n",
       "  </thead>\n",
       "  <tbody>\n",
       "    <tr>\n",
       "      <th>0</th>\n",
       "      <td>2020-10-01</td>\n",
       "      <td>9.51</td>\n",
       "      <td>9.66</td>\n",
       "      <td>9.48</td>\n",
       "      <td>9.52</td>\n",
       "      <td>24896527</td>\n",
       "      <td>0.18</td>\n",
       "    </tr>\n",
       "    <tr>\n",
       "      <th>1</th>\n",
       "      <td>2020-10-02</td>\n",
       "      <td>9.45</td>\n",
       "      <td>9.64</td>\n",
       "      <td>9.45</td>\n",
       "      <td>9.62</td>\n",
       "      <td>15736785</td>\n",
       "      <td>0.19</td>\n",
       "    </tr>\n",
       "    <tr>\n",
       "      <th>2</th>\n",
       "      <td>2020-10-05</td>\n",
       "      <td>9.66</td>\n",
       "      <td>9.73</td>\n",
       "      <td>9.59</td>\n",
       "      <td>9.72</td>\n",
       "      <td>13018975</td>\n",
       "      <td>0.14</td>\n",
       "    </tr>\n",
       "    <tr>\n",
       "      <th>3</th>\n",
       "      <td>2020-10-06</td>\n",
       "      <td>9.77</td>\n",
       "      <td>9.80</td>\n",
       "      <td>9.63</td>\n",
       "      <td>9.67</td>\n",
       "      <td>17636910</td>\n",
       "      <td>0.17</td>\n",
       "    </tr>\n",
       "    <tr>\n",
       "      <th>4</th>\n",
       "      <td>2020-10-07</td>\n",
       "      <td>9.62</td>\n",
       "      <td>9.64</td>\n",
       "      <td>9.52</td>\n",
       "      <td>9.57</td>\n",
       "      <td>10626997</td>\n",
       "      <td>0.12</td>\n",
       "    </tr>\n",
       "  </tbody>\n",
       "</table>\n",
       "</div>"
      ],
      "text/plain": [
       "        Date  Open  High   Low  Close    Volume  Difference\n",
       "0 2020-10-01  9.51  9.66  9.48   9.52  24896527        0.18\n",
       "1 2020-10-02  9.45  9.64  9.45   9.62  15736785        0.19\n",
       "2 2020-10-05  9.66  9.73  9.59   9.72  13018975        0.14\n",
       "3 2020-10-06  9.77  9.80  9.63   9.67  17636910        0.17\n",
       "4 2020-10-07  9.62  9.64  9.52   9.57  10626997        0.12"
      ]
     },
     "execution_count": 89,
     "metadata": {},
     "output_type": "execute_result"
    }
   ],
   "source": [
    "#show dataset\n",
    "dataset.head()"
   ]
  },
  {
   "cell_type": "code",
   "execution_count": 90,
   "id": "2c0bd22c",
   "metadata": {},
   "outputs": [
    {
     "data": {
      "text/html": [
       "<div>\n",
       "<style scoped>\n",
       "    .dataframe tbody tr th:only-of-type {\n",
       "        vertical-align: middle;\n",
       "    }\n",
       "\n",
       "    .dataframe tbody tr th {\n",
       "        vertical-align: top;\n",
       "    }\n",
       "\n",
       "    .dataframe thead th {\n",
       "        text-align: right;\n",
       "    }\n",
       "</style>\n",
       "<table border=\"1\" class=\"dataframe\">\n",
       "  <thead>\n",
       "    <tr style=\"text-align: right;\">\n",
       "      <th></th>\n",
       "      <th>count</th>\n",
       "      <th>mean</th>\n",
       "      <th>std</th>\n",
       "      <th>min</th>\n",
       "      <th>25%</th>\n",
       "      <th>50%</th>\n",
       "      <th>75%</th>\n",
       "      <th>max</th>\n",
       "    </tr>\n",
       "  </thead>\n",
       "  <tbody>\n",
       "    <tr>\n",
       "      <th>Open</th>\n",
       "      <td>501.0</td>\n",
       "      <td>2.220559e+01</td>\n",
       "      <td>7.672844e+00</td>\n",
       "      <td>9.10</td>\n",
       "      <td>1.606000e+01</td>\n",
       "      <td>1.945000e+01</td>\n",
       "      <td>2.892000e+01</td>\n",
       "      <td>3.650000e+01</td>\n",
       "    </tr>\n",
       "    <tr>\n",
       "      <th>High</th>\n",
       "      <td>501.0</td>\n",
       "      <td>2.260471e+01</td>\n",
       "      <td>7.819880e+00</td>\n",
       "      <td>9.55</td>\n",
       "      <td>1.640000e+01</td>\n",
       "      <td>1.974000e+01</td>\n",
       "      <td>2.964000e+01</td>\n",
       "      <td>3.688000e+01</td>\n",
       "    </tr>\n",
       "    <tr>\n",
       "      <th>Low</th>\n",
       "      <td>501.0</td>\n",
       "      <td>2.183425e+01</td>\n",
       "      <td>7.496193e+00</td>\n",
       "      <td>9.06</td>\n",
       "      <td>1.582000e+01</td>\n",
       "      <td>1.918000e+01</td>\n",
       "      <td>2.826000e+01</td>\n",
       "      <td>3.592000e+01</td>\n",
       "    </tr>\n",
       "    <tr>\n",
       "      <th>Close</th>\n",
       "      <td>501.0</td>\n",
       "      <td>2.220116e+01</td>\n",
       "      <td>7.625064e+00</td>\n",
       "      <td>9.29</td>\n",
       "      <td>1.606000e+01</td>\n",
       "      <td>1.944000e+01</td>\n",
       "      <td>2.886000e+01</td>\n",
       "      <td>3.650000e+01</td>\n",
       "    </tr>\n",
       "    <tr>\n",
       "      <th>Volume</th>\n",
       "      <td>501.0</td>\n",
       "      <td>4.885883e+07</td>\n",
       "      <td>3.495577e+07</td>\n",
       "      <td>141044.00</td>\n",
       "      <td>2.830633e+07</td>\n",
       "      <td>4.087227e+07</td>\n",
       "      <td>5.902654e+07</td>\n",
       "      <td>3.003685e+08</td>\n",
       "    </tr>\n",
       "    <tr>\n",
       "      <th>Difference</th>\n",
       "      <td>501.0</td>\n",
       "      <td>7.704591e-01</td>\n",
       "      <td>6.124611e-01</td>\n",
       "      <td>0.00</td>\n",
       "      <td>4.000000e-01</td>\n",
       "      <td>6.000020e-01</td>\n",
       "      <td>9.400000e-01</td>\n",
       "      <td>5.999998e+00</td>\n",
       "    </tr>\n",
       "  </tbody>\n",
       "</table>\n",
       "</div>"
      ],
      "text/plain": [
       "            count          mean           std        min           25%  \\\n",
       "Open        501.0  2.220559e+01  7.672844e+00       9.10  1.606000e+01   \n",
       "High        501.0  2.260471e+01  7.819880e+00       9.55  1.640000e+01   \n",
       "Low         501.0  2.183425e+01  7.496193e+00       9.06  1.582000e+01   \n",
       "Close       501.0  2.220116e+01  7.625064e+00       9.29  1.606000e+01   \n",
       "Volume      501.0  4.885883e+07  3.495577e+07  141044.00  2.830633e+07   \n",
       "Difference  501.0  7.704591e-01  6.124611e-01       0.00  4.000000e-01   \n",
       "\n",
       "                     50%           75%           max  \n",
       "Open        1.945000e+01  2.892000e+01  3.650000e+01  \n",
       "High        1.974000e+01  2.964000e+01  3.688000e+01  \n",
       "Low         1.918000e+01  2.826000e+01  3.592000e+01  \n",
       "Close       1.944000e+01  2.886000e+01  3.650000e+01  \n",
       "Volume      4.087227e+07  5.902654e+07  3.003685e+08  \n",
       "Difference  6.000020e-01  9.400000e-01  5.999998e+00  "
      ]
     },
     "execution_count": 90,
     "metadata": {},
     "output_type": "execute_result"
    }
   ],
   "source": [
    "#check the Istatical status\n",
    "dataset.describe().transpose()"
   ]
  },
  {
   "cell_type": "code",
   "execution_count": 91,
   "id": "62d369d6",
   "metadata": {},
   "outputs": [],
   "source": [
    "# Add some features\n",
    "#Calculate any day return\n",
    "def DataAndDay(raw,day):\n",
    "    threestd = []\n",
    "    for i in range(0,day):\n",
    "        threestd.append(0)\n",
    "\n",
    "    for i in range(0,len(raw)-day):\n",
    "        threestd.append((raw[\"Close\"].iloc[i+day] / raw[\"Close\"].iloc[i]) - 1)\n",
    "    raw[str(day) + \"_DAY\"] = threestd\n",
    "    return raw"
   ]
  },
  {
   "cell_type": "code",
   "execution_count": 92,
   "id": "4c5bbd8e",
   "metadata": {},
   "outputs": [],
   "source": [
    "# Run Methods\n",
    "days = [3,5,10,20]\n",
    "for i in days:\n",
    "    dataset = DataAndDay2(dataset,i)"
   ]
  },
  {
   "cell_type": "code",
   "execution_count": 93,
   "id": "c2f2c7bb",
   "metadata": {},
   "outputs": [
    {
     "data": {
      "text/html": [
       "<div>\n",
       "<style scoped>\n",
       "    .dataframe tbody tr th:only-of-type {\n",
       "        vertical-align: middle;\n",
       "    }\n",
       "\n",
       "    .dataframe tbody tr th {\n",
       "        vertical-align: top;\n",
       "    }\n",
       "\n",
       "    .dataframe thead th {\n",
       "        text-align: right;\n",
       "    }\n",
       "</style>\n",
       "<table border=\"1\" class=\"dataframe\">\n",
       "  <thead>\n",
       "    <tr style=\"text-align: right;\">\n",
       "      <th></th>\n",
       "      <th>Date</th>\n",
       "      <th>Open</th>\n",
       "      <th>High</th>\n",
       "      <th>Low</th>\n",
       "      <th>Close</th>\n",
       "      <th>Volume</th>\n",
       "      <th>Difference</th>\n",
       "      <th>3_DAY</th>\n",
       "      <th>5_DAY</th>\n",
       "      <th>10_DAY</th>\n",
       "      <th>20_DAY</th>\n",
       "    </tr>\n",
       "  </thead>\n",
       "  <tbody>\n",
       "    <tr>\n",
       "      <th>0</th>\n",
       "      <td>2020-10-01</td>\n",
       "      <td>9.51</td>\n",
       "      <td>9.66</td>\n",
       "      <td>9.48</td>\n",
       "      <td>9.52</td>\n",
       "      <td>24896527</td>\n",
       "      <td>0.18</td>\n",
       "      <td>0.000000</td>\n",
       "      <td>0.000000</td>\n",
       "      <td>0.000000</td>\n",
       "      <td>0.0</td>\n",
       "    </tr>\n",
       "    <tr>\n",
       "      <th>1</th>\n",
       "      <td>2020-10-02</td>\n",
       "      <td>9.45</td>\n",
       "      <td>9.64</td>\n",
       "      <td>9.45</td>\n",
       "      <td>9.62</td>\n",
       "      <td>15736785</td>\n",
       "      <td>0.19</td>\n",
       "      <td>0.000000</td>\n",
       "      <td>0.000000</td>\n",
       "      <td>0.000000</td>\n",
       "      <td>0.0</td>\n",
       "    </tr>\n",
       "    <tr>\n",
       "      <th>2</th>\n",
       "      <td>2020-10-05</td>\n",
       "      <td>9.66</td>\n",
       "      <td>9.73</td>\n",
       "      <td>9.59</td>\n",
       "      <td>9.72</td>\n",
       "      <td>13018975</td>\n",
       "      <td>0.14</td>\n",
       "      <td>0.000000</td>\n",
       "      <td>0.000000</td>\n",
       "      <td>0.000000</td>\n",
       "      <td>0.0</td>\n",
       "    </tr>\n",
       "    <tr>\n",
       "      <th>3</th>\n",
       "      <td>2020-10-06</td>\n",
       "      <td>9.77</td>\n",
       "      <td>9.80</td>\n",
       "      <td>9.63</td>\n",
       "      <td>9.67</td>\n",
       "      <td>17636910</td>\n",
       "      <td>0.17</td>\n",
       "      <td>0.015756</td>\n",
       "      <td>0.000000</td>\n",
       "      <td>0.000000</td>\n",
       "      <td>0.0</td>\n",
       "    </tr>\n",
       "    <tr>\n",
       "      <th>4</th>\n",
       "      <td>2020-10-07</td>\n",
       "      <td>9.62</td>\n",
       "      <td>9.64</td>\n",
       "      <td>9.52</td>\n",
       "      <td>9.57</td>\n",
       "      <td>10626997</td>\n",
       "      <td>0.12</td>\n",
       "      <td>-0.005198</td>\n",
       "      <td>0.000000</td>\n",
       "      <td>0.000000</td>\n",
       "      <td>0.0</td>\n",
       "    </tr>\n",
       "    <tr>\n",
       "      <th>5</th>\n",
       "      <td>2020-10-08</td>\n",
       "      <td>9.60</td>\n",
       "      <td>9.70</td>\n",
       "      <td>9.46</td>\n",
       "      <td>9.53</td>\n",
       "      <td>18301310</td>\n",
       "      <td>0.24</td>\n",
       "      <td>-0.019547</td>\n",
       "      <td>0.001050</td>\n",
       "      <td>0.000000</td>\n",
       "      <td>0.0</td>\n",
       "    </tr>\n",
       "    <tr>\n",
       "      <th>6</th>\n",
       "      <td>2020-10-09</td>\n",
       "      <td>9.55</td>\n",
       "      <td>9.72</td>\n",
       "      <td>9.55</td>\n",
       "      <td>9.69</td>\n",
       "      <td>11881359</td>\n",
       "      <td>0.17</td>\n",
       "      <td>0.002068</td>\n",
       "      <td>0.007277</td>\n",
       "      <td>0.000000</td>\n",
       "      <td>0.0</td>\n",
       "    </tr>\n",
       "    <tr>\n",
       "      <th>7</th>\n",
       "      <td>2020-10-12</td>\n",
       "      <td>9.71</td>\n",
       "      <td>9.78</td>\n",
       "      <td>9.68</td>\n",
       "      <td>9.73</td>\n",
       "      <td>10135201</td>\n",
       "      <td>0.10</td>\n",
       "      <td>0.016719</td>\n",
       "      <td>0.001029</td>\n",
       "      <td>0.000000</td>\n",
       "      <td>0.0</td>\n",
       "    </tr>\n",
       "    <tr>\n",
       "      <th>8</th>\n",
       "      <td>2020-10-13</td>\n",
       "      <td>9.65</td>\n",
       "      <td>9.67</td>\n",
       "      <td>9.56</td>\n",
       "      <td>9.62</td>\n",
       "      <td>8047054</td>\n",
       "      <td>0.11</td>\n",
       "      <td>0.009444</td>\n",
       "      <td>-0.005171</td>\n",
       "      <td>0.000000</td>\n",
       "      <td>0.0</td>\n",
       "    </tr>\n",
       "    <tr>\n",
       "      <th>9</th>\n",
       "      <td>2020-10-14</td>\n",
       "      <td>9.62</td>\n",
       "      <td>9.82</td>\n",
       "      <td>9.58</td>\n",
       "      <td>9.81</td>\n",
       "      <td>13112031</td>\n",
       "      <td>0.24</td>\n",
       "      <td>0.012384</td>\n",
       "      <td>0.025078</td>\n",
       "      <td>0.000000</td>\n",
       "      <td>0.0</td>\n",
       "    </tr>\n",
       "    <tr>\n",
       "      <th>10</th>\n",
       "      <td>2020-10-15</td>\n",
       "      <td>9.80</td>\n",
       "      <td>9.82</td>\n",
       "      <td>9.63</td>\n",
       "      <td>9.73</td>\n",
       "      <td>9988729</td>\n",
       "      <td>0.19</td>\n",
       "      <td>0.000000</td>\n",
       "      <td>0.020986</td>\n",
       "      <td>0.022059</td>\n",
       "      <td>0.0</td>\n",
       "    </tr>\n",
       "    <tr>\n",
       "      <th>11</th>\n",
       "      <td>2020-10-16</td>\n",
       "      <td>9.70</td>\n",
       "      <td>9.75</td>\n",
       "      <td>9.64</td>\n",
       "      <td>9.72</td>\n",
       "      <td>9852865</td>\n",
       "      <td>0.11</td>\n",
       "      <td>0.010395</td>\n",
       "      <td>0.003096</td>\n",
       "      <td>0.010395</td>\n",
       "      <td>0.0</td>\n",
       "    </tr>\n",
       "    <tr>\n",
       "      <th>12</th>\n",
       "      <td>2020-10-19</td>\n",
       "      <td>9.69</td>\n",
       "      <td>9.74</td>\n",
       "      <td>9.61</td>\n",
       "      <td>9.66</td>\n",
       "      <td>11212083</td>\n",
       "      <td>0.13</td>\n",
       "      <td>-0.015291</td>\n",
       "      <td>-0.007194</td>\n",
       "      <td>-0.006173</td>\n",
       "      <td>0.0</td>\n",
       "    </tr>\n",
       "    <tr>\n",
       "      <th>13</th>\n",
       "      <td>2020-10-20</td>\n",
       "      <td>9.61</td>\n",
       "      <td>9.75</td>\n",
       "      <td>9.51</td>\n",
       "      <td>9.74</td>\n",
       "      <td>12285261</td>\n",
       "      <td>0.24</td>\n",
       "      <td>0.001028</td>\n",
       "      <td>0.012474</td>\n",
       "      <td>0.007239</td>\n",
       "      <td>0.0</td>\n",
       "    </tr>\n",
       "    <tr>\n",
       "      <th>14</th>\n",
       "      <td>2020-10-21</td>\n",
       "      <td>9.75</td>\n",
       "      <td>9.95</td>\n",
       "      <td>9.64</td>\n",
       "      <td>9.90</td>\n",
       "      <td>33824380</td>\n",
       "      <td>0.31</td>\n",
       "      <td>0.018519</td>\n",
       "      <td>0.009174</td>\n",
       "      <td>0.034483</td>\n",
       "      <td>0.0</td>\n",
       "    </tr>\n",
       "    <tr>\n",
       "      <th>15</th>\n",
       "      <td>2020-10-22</td>\n",
       "      <td>9.83</td>\n",
       "      <td>10.00</td>\n",
       "      <td>9.79</td>\n",
       "      <td>9.84</td>\n",
       "      <td>28370432</td>\n",
       "      <td>0.21</td>\n",
       "      <td>0.018634</td>\n",
       "      <td>0.011305</td>\n",
       "      <td>0.032529</td>\n",
       "      <td>0.0</td>\n",
       "    </tr>\n",
       "    <tr>\n",
       "      <th>16</th>\n",
       "      <td>2020-10-23</td>\n",
       "      <td>9.82</td>\n",
       "      <td>10.09</td>\n",
       "      <td>9.79</td>\n",
       "      <td>10.09</td>\n",
       "      <td>39800472</td>\n",
       "      <td>0.30</td>\n",
       "      <td>0.035934</td>\n",
       "      <td>0.038066</td>\n",
       "      <td>0.041280</td>\n",
       "      <td>0.0</td>\n",
       "    </tr>\n",
       "    <tr>\n",
       "      <th>17</th>\n",
       "      <td>2020-10-26</td>\n",
       "      <td>9.99</td>\n",
       "      <td>10.20</td>\n",
       "      <td>9.85</td>\n",
       "      <td>10.03</td>\n",
       "      <td>36235182</td>\n",
       "      <td>0.35</td>\n",
       "      <td>0.013131</td>\n",
       "      <td>0.038302</td>\n",
       "      <td>0.030832</td>\n",
       "      <td>0.0</td>\n",
       "    </tr>\n",
       "    <tr>\n",
       "      <th>18</th>\n",
       "      <td>2020-10-27</td>\n",
       "      <td>9.93</td>\n",
       "      <td>10.07</td>\n",
       "      <td>9.58</td>\n",
       "      <td>9.67</td>\n",
       "      <td>25641490</td>\n",
       "      <td>0.49</td>\n",
       "      <td>-0.017276</td>\n",
       "      <td>-0.007187</td>\n",
       "      <td>0.005198</td>\n",
       "      <td>0.0</td>\n",
       "    </tr>\n",
       "    <tr>\n",
       "      <th>19</th>\n",
       "      <td>2020-10-28</td>\n",
       "      <td>9.65</td>\n",
       "      <td>9.68</td>\n",
       "      <td>9.28</td>\n",
       "      <td>9.29</td>\n",
       "      <td>10711166</td>\n",
       "      <td>0.40</td>\n",
       "      <td>-0.079286</td>\n",
       "      <td>-0.061616</td>\n",
       "      <td>-0.053007</td>\n",
       "      <td>0.0</td>\n",
       "    </tr>\n",
       "  </tbody>\n",
       "</table>\n",
       "</div>"
      ],
      "text/plain": [
       "         Date  Open   High   Low  Close    Volume  Difference     3_DAY  \\\n",
       "0  2020-10-01  9.51   9.66  9.48   9.52  24896527        0.18  0.000000   \n",
       "1  2020-10-02  9.45   9.64  9.45   9.62  15736785        0.19  0.000000   \n",
       "2  2020-10-05  9.66   9.73  9.59   9.72  13018975        0.14  0.000000   \n",
       "3  2020-10-06  9.77   9.80  9.63   9.67  17636910        0.17  0.015756   \n",
       "4  2020-10-07  9.62   9.64  9.52   9.57  10626997        0.12 -0.005198   \n",
       "5  2020-10-08  9.60   9.70  9.46   9.53  18301310        0.24 -0.019547   \n",
       "6  2020-10-09  9.55   9.72  9.55   9.69  11881359        0.17  0.002068   \n",
       "7  2020-10-12  9.71   9.78  9.68   9.73  10135201        0.10  0.016719   \n",
       "8  2020-10-13  9.65   9.67  9.56   9.62   8047054        0.11  0.009444   \n",
       "9  2020-10-14  9.62   9.82  9.58   9.81  13112031        0.24  0.012384   \n",
       "10 2020-10-15  9.80   9.82  9.63   9.73   9988729        0.19  0.000000   \n",
       "11 2020-10-16  9.70   9.75  9.64   9.72   9852865        0.11  0.010395   \n",
       "12 2020-10-19  9.69   9.74  9.61   9.66  11212083        0.13 -0.015291   \n",
       "13 2020-10-20  9.61   9.75  9.51   9.74  12285261        0.24  0.001028   \n",
       "14 2020-10-21  9.75   9.95  9.64   9.90  33824380        0.31  0.018519   \n",
       "15 2020-10-22  9.83  10.00  9.79   9.84  28370432        0.21  0.018634   \n",
       "16 2020-10-23  9.82  10.09  9.79  10.09  39800472        0.30  0.035934   \n",
       "17 2020-10-26  9.99  10.20  9.85  10.03  36235182        0.35  0.013131   \n",
       "18 2020-10-27  9.93  10.07  9.58   9.67  25641490        0.49 -0.017276   \n",
       "19 2020-10-28  9.65   9.68  9.28   9.29  10711166        0.40 -0.079286   \n",
       "\n",
       "       5_DAY    10_DAY  20_DAY  \n",
       "0   0.000000  0.000000     0.0  \n",
       "1   0.000000  0.000000     0.0  \n",
       "2   0.000000  0.000000     0.0  \n",
       "3   0.000000  0.000000     0.0  \n",
       "4   0.000000  0.000000     0.0  \n",
       "5   0.001050  0.000000     0.0  \n",
       "6   0.007277  0.000000     0.0  \n",
       "7   0.001029  0.000000     0.0  \n",
       "8  -0.005171  0.000000     0.0  \n",
       "9   0.025078  0.000000     0.0  \n",
       "10  0.020986  0.022059     0.0  \n",
       "11  0.003096  0.010395     0.0  \n",
       "12 -0.007194 -0.006173     0.0  \n",
       "13  0.012474  0.007239     0.0  \n",
       "14  0.009174  0.034483     0.0  \n",
       "15  0.011305  0.032529     0.0  \n",
       "16  0.038066  0.041280     0.0  \n",
       "17  0.038302  0.030832     0.0  \n",
       "18 -0.007187  0.005198     0.0  \n",
       "19 -0.061616 -0.053007     0.0  "
      ]
     },
     "execution_count": 93,
     "metadata": {},
     "output_type": "execute_result"
    }
   ],
   "source": [
    "#Analysis after calculation\n",
    "dataset.head(20)"
   ]
  },
  {
   "cell_type": "code",
   "execution_count": 94,
   "id": "66caa946",
   "metadata": {},
   "outputs": [
    {
     "name": "stdout",
     "output_type": "stream",
     "text": [
      "3 Day Mean: 0.007761380345966635\n",
      "3 Day Std: 0.04764614916777587\n",
      "5 Day Mean: 0.013160769793077207\n",
      "5 Day Std: 0.06282202413319374\n",
      "10 Day Mean: 0.02705068839075077\n",
      "10 Day Std: 0.09066500931038993\n",
      "20 Day Mean: 0.05628584510176323\n",
      "20 Day Std: 0.12860549643496133\n"
     ]
    }
   ],
   "source": [
    "#Analysis the 3,5,10 and 20 days STD\n",
    "days = [3,5,10,20]\n",
    "for i in days:\n",
    "    print(str(i) + \" \" + \"Day Mean:\", dataset[str(i)+\"_DAY\"].iloc[i:].mean())\n",
    "    print(str(i) +\" \"+ \"Day Std:\", dataset[str(i)+\"_DAY\"].iloc[i:].std())"
   ]
  },
  {
   "cell_type": "code",
   "execution_count": 95,
   "id": "4592fd76",
   "metadata": {},
   "outputs": [
    {
     "data": {
      "text/plain": [
       "Date          0\n",
       "Open          0\n",
       "High          0\n",
       "Low           0\n",
       "Close         0\n",
       "Volume        0\n",
       "Difference    0\n",
       "3_DAY         0\n",
       "5_DAY         0\n",
       "10_DAY        0\n",
       "20_DAY        0\n",
       "dtype: int64"
      ]
     },
     "execution_count": 95,
     "metadata": {},
     "output_type": "execute_result"
    }
   ],
   "source": [
    "# Detarmine the NAN values\n",
    "dataset.isna().sum()"
   ]
  },
  {
   "cell_type": "markdown",
   "id": "7e73f184",
   "metadata": {},
   "source": [
    "# Plotting"
   ]
  },
  {
   "cell_type": "code",
   "execution_count": 96,
   "id": "f74bcd9c",
   "metadata": {},
   "outputs": [
    {
     "data": {
      "text/plain": [
       "<AxesSubplot:xlabel='Date'>"
      ]
     },
     "execution_count": 96,
     "metadata": {},
     "output_type": "execute_result"
    },
    {
     "data": {
      "image/png": "[encoded data removed]",
      "text/plain": [
       "<Figure size 1800x720 with 1 Axes>"
      ]
     },
     "metadata": {
      "needs_background": "light"
     },
     "output_type": "display_data"
    }
   ],
   "source": [
    "dataset.plot.line(x =\"Date\",y = [\"Open\",\"High\",\"Low\",\"Close\"],figsize=(25,10))"
   ]
  },
  {
   "cell_type": "markdown",
   "id": "21d694d2",
   "metadata": {},
   "source": [
    "# Model "
   ]
  },
  {
   "cell_type": "code",
   "execution_count": 97,
   "id": "1b200c85",
   "metadata": {},
   "outputs": [],
   "source": [
    "# Import liblaries\n",
    "from sklearn import preprocessing, svm\n",
    "from sklearn.model_selection import train_test_split\n",
    "from sklearn.linear_model import LinearRegression"
   ]
  },
  {
   "cell_type": "code",
   "execution_count": 98,
   "id": "8bea626e",
   "metadata": {},
   "outputs": [],
   "source": [
    "# Create the X for Linear Reg.\n",
    "X = dataset.drop([\"Date\",\"Close\"], axis=1)"
   ]
  },
  {
   "cell_type": "code",
   "execution_count": 99,
   "id": "09d4cfde",
   "metadata": {},
   "outputs": [
    {
     "data": {
      "text/plain": [
       "(501, 9)"
      ]
     },
     "execution_count": 99,
     "metadata": {},
     "output_type": "execute_result"
    }
   ],
   "source": [
    "# And divaded two difference dataset and get middle of data set\n",
    "X.shape\n",
    "# sample will be 350"
   ]
  },
  {
   "cell_type": "code",
   "execution_count": 100,
   "id": "618f72a6",
   "metadata": {},
   "outputs": [
    {
     "data": {
      "text/plain": [
       "(350, 9)"
      ]
     },
     "execution_count": 100,
     "metadata": {},
     "output_type": "execute_result"
    }
   ],
   "source": [
    "#Get 350 sample as X_train\n",
    "X_train = X.iloc[:350]\n",
    "X_train.shape"
   ]
  },
  {
   "cell_type": "code",
   "execution_count": 101,
   "id": "8df1963b",
   "metadata": {},
   "outputs": [
    {
     "data": {
      "text/html": [
       "<div>\n",
       "<style scoped>\n",
       "    .dataframe tbody tr th:only-of-type {\n",
       "        vertical-align: middle;\n",
       "    }\n",
       "\n",
       "    .dataframe tbody tr th {\n",
       "        vertical-align: top;\n",
       "    }\n",
       "\n",
       "    .dataframe thead th {\n",
       "        text-align: right;\n",
       "    }\n",
       "</style>\n",
       "<table border=\"1\" class=\"dataframe\">\n",
       "  <thead>\n",
       "    <tr style=\"text-align: right;\">\n",
       "      <th></th>\n",
       "      <th>Open</th>\n",
       "      <th>High</th>\n",
       "      <th>Low</th>\n",
       "      <th>Volume</th>\n",
       "      <th>Difference</th>\n",
       "      <th>3_DAY</th>\n",
       "      <th>5_DAY</th>\n",
       "      <th>10_DAY</th>\n",
       "      <th>20_DAY</th>\n",
       "    </tr>\n",
       "  </thead>\n",
       "  <tbody>\n",
       "    <tr>\n",
       "      <th>0</th>\n",
       "      <td>9.51</td>\n",
       "      <td>9.66</td>\n",
       "      <td>9.48</td>\n",
       "      <td>24896527</td>\n",
       "      <td>0.18</td>\n",
       "      <td>0.000000</td>\n",
       "      <td>0.0</td>\n",
       "      <td>0.0</td>\n",
       "      <td>0.0</td>\n",
       "    </tr>\n",
       "    <tr>\n",
       "      <th>1</th>\n",
       "      <td>9.45</td>\n",
       "      <td>9.64</td>\n",
       "      <td>9.45</td>\n",
       "      <td>15736785</td>\n",
       "      <td>0.19</td>\n",
       "      <td>0.000000</td>\n",
       "      <td>0.0</td>\n",
       "      <td>0.0</td>\n",
       "      <td>0.0</td>\n",
       "    </tr>\n",
       "    <tr>\n",
       "      <th>2</th>\n",
       "      <td>9.66</td>\n",
       "      <td>9.73</td>\n",
       "      <td>9.59</td>\n",
       "      <td>13018975</td>\n",
       "      <td>0.14</td>\n",
       "      <td>0.000000</td>\n",
       "      <td>0.0</td>\n",
       "      <td>0.0</td>\n",
       "      <td>0.0</td>\n",
       "    </tr>\n",
       "    <tr>\n",
       "      <th>3</th>\n",
       "      <td>9.77</td>\n",
       "      <td>9.80</td>\n",
       "      <td>9.63</td>\n",
       "      <td>17636910</td>\n",
       "      <td>0.17</td>\n",
       "      <td>0.015756</td>\n",
       "      <td>0.0</td>\n",
       "      <td>0.0</td>\n",
       "      <td>0.0</td>\n",
       "    </tr>\n",
       "    <tr>\n",
       "      <th>4</th>\n",
       "      <td>9.62</td>\n",
       "      <td>9.64</td>\n",
       "      <td>9.52</td>\n",
       "      <td>10626997</td>\n",
       "      <td>0.12</td>\n",
       "      <td>-0.005198</td>\n",
       "      <td>0.0</td>\n",
       "      <td>0.0</td>\n",
       "      <td>0.0</td>\n",
       "    </tr>\n",
       "  </tbody>\n",
       "</table>\n",
       "</div>"
      ],
      "text/plain": [
       "   Open  High   Low    Volume  Difference     3_DAY  5_DAY  10_DAY  20_DAY\n",
       "0  9.51  9.66  9.48  24896527        0.18  0.000000    0.0     0.0     0.0\n",
       "1  9.45  9.64  9.45  15736785        0.19  0.000000    0.0     0.0     0.0\n",
       "2  9.66  9.73  9.59  13018975        0.14  0.000000    0.0     0.0     0.0\n",
       "3  9.77  9.80  9.63  17636910        0.17  0.015756    0.0     0.0     0.0\n",
       "4  9.62  9.64  9.52  10626997        0.12 -0.005198    0.0     0.0     0.0"
      ]
     },
     "execution_count": 101,
     "metadata": {},
     "output_type": "execute_result"
    }
   ],
   "source": [
    "X_train.head()"
   ]
  },
  {
   "cell_type": "code",
   "execution_count": 102,
   "id": "90eafbe4",
   "metadata": {},
   "outputs": [
    {
     "data": {
      "text/html": [
       "<div>\n",
       "<style scoped>\n",
       "    .dataframe tbody tr th:only-of-type {\n",
       "        vertical-align: middle;\n",
       "    }\n",
       "\n",
       "    .dataframe tbody tr th {\n",
       "        vertical-align: top;\n",
       "    }\n",
       "\n",
       "    .dataframe thead th {\n",
       "        text-align: right;\n",
       "    }\n",
       "</style>\n",
       "<table border=\"1\" class=\"dataframe\">\n",
       "  <thead>\n",
       "    <tr style=\"text-align: right;\">\n",
       "      <th></th>\n",
       "      <th>Open</th>\n",
       "      <th>High</th>\n",
       "      <th>Low</th>\n",
       "      <th>Volume</th>\n",
       "      <th>Difference</th>\n",
       "      <th>3_DAY</th>\n",
       "      <th>5_DAY</th>\n",
       "      <th>10_DAY</th>\n",
       "      <th>20_DAY</th>\n",
       "    </tr>\n",
       "  </thead>\n",
       "  <tbody>\n",
       "    <tr>\n",
       "      <th>350</th>\n",
       "      <td>28.240000</td>\n",
       "      <td>28.820000</td>\n",
       "      <td>27.980000</td>\n",
       "      <td>46607886</td>\n",
       "      <td>0.840000</td>\n",
       "      <td>0.012839</td>\n",
       "      <td>-0.005602</td>\n",
       "      <td>-0.001407</td>\n",
       "      <td>0.041056</td>\n",
       "    </tr>\n",
       "    <tr>\n",
       "      <th>351</th>\n",
       "      <td>29.080000</td>\n",
       "      <td>31.059999</td>\n",
       "      <td>29.000000</td>\n",
       "      <td>142510720</td>\n",
       "      <td>2.059999</td>\n",
       "      <td>0.073394</td>\n",
       "      <td>0.079489</td>\n",
       "      <td>0.027703</td>\n",
       "      <td>0.118382</td>\n",
       "    </tr>\n",
       "    <tr>\n",
       "      <th>352</th>\n",
       "      <td>29.059999</td>\n",
       "      <td>29.900000</td>\n",
       "      <td>27.540001</td>\n",
       "      <td>150176712</td>\n",
       "      <td>2.359999</td>\n",
       "      <td>0.007623</td>\n",
       "      <td>0.037090</td>\n",
       "      <td>-0.012899</td>\n",
       "      <td>0.046043</td>\n",
       "    </tr>\n",
       "    <tr>\n",
       "      <th>353</th>\n",
       "      <td>29.879999</td>\n",
       "      <td>31.420000</td>\n",
       "      <td>29.639999</td>\n",
       "      <td>106559497</td>\n",
       "      <td>1.780001</td>\n",
       "      <td>0.097183</td>\n",
       "      <td>0.099506</td>\n",
       "      <td>0.071527</td>\n",
       "      <td>0.142229</td>\n",
       "    </tr>\n",
       "    <tr>\n",
       "      <th>354</th>\n",
       "      <td>30.700001</td>\n",
       "      <td>31.719999</td>\n",
       "      <td>30.500000</td>\n",
       "      <td>87210346</td>\n",
       "      <td>1.219999</td>\n",
       "      <td>0.021696</td>\n",
       "      <td>0.076923</td>\n",
       "      <td>0.112384</td>\n",
       "      <td>0.139296</td>\n",
       "    </tr>\n",
       "  </tbody>\n",
       "</table>\n",
       "</div>"
      ],
      "text/plain": [
       "          Open       High        Low     Volume  Difference     3_DAY  \\\n",
       "350  28.240000  28.820000  27.980000   46607886    0.840000  0.012839   \n",
       "351  29.080000  31.059999  29.000000  142510720    2.059999  0.073394   \n",
       "352  29.059999  29.900000  27.540001  150176712    2.359999  0.007623   \n",
       "353  29.879999  31.420000  29.639999  106559497    1.780001  0.097183   \n",
       "354  30.700001  31.719999  30.500000   87210346    1.219999  0.021696   \n",
       "\n",
       "        5_DAY    10_DAY    20_DAY  \n",
       "350 -0.005602 -0.001407  0.041056  \n",
       "351  0.079489  0.027703  0.118382  \n",
       "352  0.037090 -0.012899  0.046043  \n",
       "353  0.099506  0.071527  0.142229  \n",
       "354  0.076923  0.112384  0.139296  "
      ]
     },
     "execution_count": 102,
     "metadata": {},
     "output_type": "execute_result"
    }
   ],
   "source": [
    "#create the X_test\n",
    "X_test = X.iloc[350:]\n",
    "X_test.head()"
   ]
  },
  {
   "cell_type": "code",
   "execution_count": 103,
   "id": "f0418b16",
   "metadata": {},
   "outputs": [],
   "source": [
    "# Create y_train value as output and firstly divaded two piece\n",
    "y = dataset[\"Close\"]\n",
    "y_train = y.iloc[:350]"
   ]
  },
  {
   "cell_type": "code",
   "execution_count": 104,
   "id": "8f7da7f0",
   "metadata": {},
   "outputs": [
    {
     "data": {
      "text/plain": [
       "(350,)"
      ]
     },
     "execution_count": 104,
     "metadata": {},
     "output_type": "execute_result"
    }
   ],
   "source": [
    "y_train.shape"
   ]
  },
  {
   "cell_type": "code",
   "execution_count": 105,
   "id": "44641694",
   "metadata": {},
   "outputs": [
    {
     "data": {
      "text/plain": [
       "(151,)"
      ]
     },
     "execution_count": 105,
     "metadata": {},
     "output_type": "execute_result"
    }
   ],
   "source": [
    "#create the y_test\n",
    "y_test = y.iloc[350:]\n",
    "y_test.shape"
   ]
  },
  {
   "cell_type": "code",
   "execution_count": 106,
   "id": "839a4ab2",
   "metadata": {},
   "outputs": [
    {
     "data": {
      "text/plain": [
       "350    28.40\n",
       "351    30.42\n",
       "352    29.08\n",
       "353    31.16\n",
       "354    31.08\n",
       "Name: Close, dtype: float64"
      ]
     },
     "execution_count": 106,
     "metadata": {},
     "output_type": "execute_result"
    }
   ],
   "source": [
    "y_test.head()"
   ]
  },
  {
   "cell_type": "code",
   "execution_count": 107,
   "id": "8cd17cc4",
   "metadata": {},
   "outputs": [],
   "source": [
    "# create a Model object\n",
    "regr = LinearRegression()"
   ]
  },
  {
   "cell_type": "code",
   "execution_count": 108,
   "id": "ae816ea0",
   "metadata": {},
   "outputs": [
    {
     "data": {
      "text/plain": [
       "LinearRegression()"
      ]
     },
     "execution_count": 108,
     "metadata": {},
     "output_type": "execute_result"
    }
   ],
   "source": [
    "# fit the model\n",
    "regr.fit(X_train,y_train)"
   ]
  },
  {
   "cell_type": "code",
   "execution_count": 109,
   "id": "206e214b",
   "metadata": {},
   "outputs": [
    {
     "name": "stdout",
     "output_type": "stream",
     "text": [
      "0.9876798295674121\n"
     ]
    }
   ],
   "source": [
    "#accuracy Score\n",
    "print(regr.score(X_test,y_test))"
   ]
  },
  {
   "cell_type": "code",
   "execution_count": 110,
   "id": "6647e46c",
   "metadata": {},
   "outputs": [],
   "source": [
    "# prediction\n",
    "y_pred = regr.predict(X_test)"
   ]
  },
  {
   "cell_type": "code",
   "execution_count": 125,
   "id": "fe906bce",
   "metadata": {},
   "outputs": [
    {
     "data": {
      "text/plain": [
       "(151,)"
      ]
     },
     "execution_count": 125,
     "metadata": {},
     "output_type": "execute_result"
    }
   ],
   "source": [
    "y_pred.shape"
   ]
  },
  {
   "cell_type": "code",
   "execution_count": 119,
   "id": "59e4e3ff",
   "metadata": {},
   "outputs": [
    {
     "data": {
      "text/plain": [
       "(151,)"
      ]
     },
     "execution_count": 119,
     "metadata": {},
     "output_type": "execute_result"
    }
   ],
   "source": [
    "y_test.shape"
   ]
  },
  {
   "cell_type": "code",
   "execution_count": 117,
   "id": "d3c6eb5a",
   "metadata": {},
   "outputs": [],
   "source": [
    "# convert to dataframe\n",
    "y_testframe = pd.DataFrame(y_test,index=)"
   ]
  },
  {
   "cell_type": "code",
   "execution_count": 135,
   "id": "9afd0f80",
   "metadata": {},
   "outputs": [],
   "source": [
    "import numpy as np"
   ]
  },
  {
   "cell_type": "code",
   "execution_count": 146,
   "id": "eca1f3c4",
   "metadata": {},
   "outputs": [
    {
     "data": {
      "text/plain": [
       "(151,)"
      ]
     },
     "execution_count": 146,
     "metadata": {},
     "output_type": "execute_result"
    }
   ],
   "source": [
    "Z=np.arange(0,151)\n",
    "Z.shape"
   ]
  },
  {
   "cell_type": "code",
   "execution_count": 148,
   "id": "3e59d08e",
   "metadata": {},
   "outputs": [],
   "source": [
    "y_testframe = y_testframe.set_index(np.arange(0,151))"
   ]
  },
  {
   "cell_type": "code",
   "execution_count": 149,
   "id": "2d8714f9",
   "metadata": {},
   "outputs": [
    {
     "data": {
      "text/html": [
       "<div>\n",
       "<style scoped>\n",
       "    .dataframe tbody tr th:only-of-type {\n",
       "        vertical-align: middle;\n",
       "    }\n",
       "\n",
       "    .dataframe tbody tr th {\n",
       "        vertical-align: top;\n",
       "    }\n",
       "\n",
       "    .dataframe thead th {\n",
       "        text-align: right;\n",
       "    }\n",
       "</style>\n",
       "<table border=\"1\" class=\"dataframe\">\n",
       "  <thead>\n",
       "    <tr style=\"text-align: right;\">\n",
       "      <th></th>\n",
       "      <th>Close</th>\n",
       "    </tr>\n",
       "  </thead>\n",
       "  <tbody>\n",
       "    <tr>\n",
       "      <th>0</th>\n",
       "      <td>28.400000</td>\n",
       "    </tr>\n",
       "    <tr>\n",
       "      <th>1</th>\n",
       "      <td>30.420000</td>\n",
       "    </tr>\n",
       "    <tr>\n",
       "      <th>2</th>\n",
       "      <td>29.080000</td>\n",
       "    </tr>\n",
       "    <tr>\n",
       "      <th>3</th>\n",
       "      <td>31.160000</td>\n",
       "    </tr>\n",
       "    <tr>\n",
       "      <th>4</th>\n",
       "      <td>31.080000</td>\n",
       "    </tr>\n",
       "    <tr>\n",
       "      <th>...</th>\n",
       "      <td>...</td>\n",
       "    </tr>\n",
       "    <tr>\n",
       "      <th>146</th>\n",
       "      <td>29.540001</td>\n",
       "    </tr>\n",
       "    <tr>\n",
       "      <th>147</th>\n",
       "      <td>29.559999</td>\n",
       "    </tr>\n",
       "    <tr>\n",
       "      <th>148</th>\n",
       "      <td>28.719999</td>\n",
       "    </tr>\n",
       "    <tr>\n",
       "      <th>149</th>\n",
       "      <td>28.860001</td>\n",
       "    </tr>\n",
       "    <tr>\n",
       "      <th>150</th>\n",
       "      <td>28.980000</td>\n",
       "    </tr>\n",
       "  </tbody>\n",
       "</table>\n",
       "<p>151 rows × 1 columns</p>\n",
       "</div>"
      ],
      "text/plain": [
       "         Close\n",
       "0    28.400000\n",
       "1    30.420000\n",
       "2    29.080000\n",
       "3    31.160000\n",
       "4    31.080000\n",
       "..         ...\n",
       "146  29.540001\n",
       "147  29.559999\n",
       "148  28.719999\n",
       "149  28.860001\n",
       "150  28.980000\n",
       "\n",
       "[151 rows x 1 columns]"
      ]
     },
     "execution_count": 149,
     "metadata": {},
     "output_type": "execute_result"
    }
   ],
   "source": [
    "y_testframe"
   ]
  },
  {
   "cell_type": "code",
   "execution_count": 132,
   "id": "44bc3e98",
   "metadata": {},
   "outputs": [],
   "source": [
    "# convert to dataframe\n",
    "y_predectframe = pd.DataFrame(y_pred,columns=[\"predicted_Close\"])"
   ]
  },
  {
   "cell_type": "code",
   "execution_count": 133,
   "id": "a773f840",
   "metadata": {},
   "outputs": [
    {
     "data": {
      "text/html": [
       "<div>\n",
       "<style scoped>\n",
       "    .dataframe tbody tr th:only-of-type {\n",
       "        vertical-align: middle;\n",
       "    }\n",
       "\n",
       "    .dataframe tbody tr th {\n",
       "        vertical-align: top;\n",
       "    }\n",
       "\n",
       "    .dataframe thead th {\n",
       "        text-align: right;\n",
       "    }\n",
       "</style>\n",
       "<table border=\"1\" class=\"dataframe\">\n",
       "  <thead>\n",
       "    <tr style=\"text-align: right;\">\n",
       "      <th></th>\n",
       "      <th>predicted_Close</th>\n",
       "    </tr>\n",
       "  </thead>\n",
       "  <tbody>\n",
       "    <tr>\n",
       "      <th>0</th>\n",
       "      <td>28.521220</td>\n",
       "    </tr>\n",
       "    <tr>\n",
       "      <th>1</th>\n",
       "      <td>30.655104</td>\n",
       "    </tr>\n",
       "    <tr>\n",
       "      <th>2</th>\n",
       "      <td>28.325325</td>\n",
       "    </tr>\n",
       "    <tr>\n",
       "      <th>3</th>\n",
       "      <td>31.014684</td>\n",
       "    </tr>\n",
       "    <tr>\n",
       "      <th>4</th>\n",
       "      <td>31.361771</td>\n",
       "    </tr>\n",
       "    <tr>\n",
       "      <th>...</th>\n",
       "      <td>...</td>\n",
       "    </tr>\n",
       "    <tr>\n",
       "      <th>146</th>\n",
       "      <td>29.604789</td>\n",
       "    </tr>\n",
       "    <tr>\n",
       "      <th>147</th>\n",
       "      <td>29.984233</td>\n",
       "    </tr>\n",
       "    <tr>\n",
       "      <th>148</th>\n",
       "      <td>28.898770</td>\n",
       "    </tr>\n",
       "    <tr>\n",
       "      <th>149</th>\n",
       "      <td>28.327557</td>\n",
       "    </tr>\n",
       "    <tr>\n",
       "      <th>150</th>\n",
       "      <td>28.962683</td>\n",
       "    </tr>\n",
       "  </tbody>\n",
       "</table>\n",
       "<p>151 rows × 1 columns</p>\n",
       "</div>"
      ],
      "text/plain": [
       "     predicted_Close\n",
       "0          28.521220\n",
       "1          30.655104\n",
       "2          28.325325\n",
       "3          31.014684\n",
       "4          31.361771\n",
       "..               ...\n",
       "146        29.604789\n",
       "147        29.984233\n",
       "148        28.898770\n",
       "149        28.327557\n",
       "150        28.962683\n",
       "\n",
       "[151 rows x 1 columns]"
      ]
     },
     "execution_count": 133,
     "metadata": {},
     "output_type": "execute_result"
    }
   ],
   "source": [
    "y_predectframe"
   ]
  },
  {
   "cell_type": "code",
   "execution_count": 150,
   "id": "b929da44",
   "metadata": {},
   "outputs": [],
   "source": [
    "#Concat the two dataframe\n",
    "lastdataframe= pd.concat([y_testframe,y_predectframe],axis=1)"
   ]
  },
  {
   "cell_type": "code",
   "execution_count": 151,
   "id": "62c95139",
   "metadata": {},
   "outputs": [
    {
     "data": {
      "text/plain": [
       "(151, 2)"
      ]
     },
     "execution_count": 151,
     "metadata": {},
     "output_type": "execute_result"
    }
   ],
   "source": [
    "lastdataframe.shape"
   ]
  },
  {
   "cell_type": "code",
   "execution_count": 152,
   "id": "10ee6c89",
   "metadata": {},
   "outputs": [
    {
     "data": {
      "text/html": [
       "<div>\n",
       "<style scoped>\n",
       "    .dataframe tbody tr th:only-of-type {\n",
       "        vertical-align: middle;\n",
       "    }\n",
       "\n",
       "    .dataframe tbody tr th {\n",
       "        vertical-align: top;\n",
       "    }\n",
       "\n",
       "    .dataframe thead th {\n",
       "        text-align: right;\n",
       "    }\n",
       "</style>\n",
       "<table border=\"1\" class=\"dataframe\">\n",
       "  <thead>\n",
       "    <tr style=\"text-align: right;\">\n",
       "      <th></th>\n",
       "      <th>Close</th>\n",
       "      <th>predicted_Close</th>\n",
       "    </tr>\n",
       "  </thead>\n",
       "  <tbody>\n",
       "    <tr>\n",
       "      <th>0</th>\n",
       "      <td>28.400000</td>\n",
       "      <td>28.521220</td>\n",
       "    </tr>\n",
       "    <tr>\n",
       "      <th>1</th>\n",
       "      <td>30.420000</td>\n",
       "      <td>30.655104</td>\n",
       "    </tr>\n",
       "    <tr>\n",
       "      <th>2</th>\n",
       "      <td>29.080000</td>\n",
       "      <td>28.325325</td>\n",
       "    </tr>\n",
       "    <tr>\n",
       "      <th>3</th>\n",
       "      <td>31.160000</td>\n",
       "      <td>31.014684</td>\n",
       "    </tr>\n",
       "    <tr>\n",
       "      <th>4</th>\n",
       "      <td>31.080000</td>\n",
       "      <td>31.361771</td>\n",
       "    </tr>\n",
       "    <tr>\n",
       "      <th>...</th>\n",
       "      <td>...</td>\n",
       "      <td>...</td>\n",
       "    </tr>\n",
       "    <tr>\n",
       "      <th>146</th>\n",
       "      <td>29.540001</td>\n",
       "      <td>29.604789</td>\n",
       "    </tr>\n",
       "    <tr>\n",
       "      <th>147</th>\n",
       "      <td>29.559999</td>\n",
       "      <td>29.984233</td>\n",
       "    </tr>\n",
       "    <tr>\n",
       "      <th>148</th>\n",
       "      <td>28.719999</td>\n",
       "      <td>28.898770</td>\n",
       "    </tr>\n",
       "    <tr>\n",
       "      <th>149</th>\n",
       "      <td>28.860001</td>\n",
       "      <td>28.327557</td>\n",
       "    </tr>\n",
       "    <tr>\n",
       "      <th>150</th>\n",
       "      <td>28.980000</td>\n",
       "      <td>28.962683</td>\n",
       "    </tr>\n",
       "  </tbody>\n",
       "</table>\n",
       "<p>151 rows × 2 columns</p>\n",
       "</div>"
      ],
      "text/plain": [
       "         Close  predicted_Close\n",
       "0    28.400000        28.521220\n",
       "1    30.420000        30.655104\n",
       "2    29.080000        28.325325\n",
       "3    31.160000        31.014684\n",
       "4    31.080000        31.361771\n",
       "..         ...              ...\n",
       "146  29.540001        29.604789\n",
       "147  29.559999        29.984233\n",
       "148  28.719999        28.898770\n",
       "149  28.860001        28.327557\n",
       "150  28.980000        28.962683\n",
       "\n",
       "[151 rows x 2 columns]"
      ]
     },
     "execution_count": 152,
     "metadata": {},
     "output_type": "execute_result"
    }
   ],
   "source": [
    "lastdataframe"
   ]
  },
  {
   "cell_type": "code",
   "execution_count": 154,
   "id": "cbc491b8",
   "metadata": {},
   "outputs": [
    {
     "data": {
      "text/plain": [
       "<AxesSubplot:>"
      ]
     },
     "execution_count": 154,
     "metadata": {},
     "output_type": "execute_result"
    },
    {
     "data": {
      "image/png": "[encoded data removed]",
      "text/plain": [
       "<Figure size 1800x720 with 1 Axes>"
      ]
     },
     "metadata": {
      "needs_background": "light"
     },
     "output_type": "display_data"
    }
   ],
   "source": [
    "#plotting prediction and actual value\n",
    "lastdataframe.plot.line(figsize=(25,10))"
   ]
  },
  {
   "cell_type": "code",
   "execution_count": null,
   "id": "54e21af9",
   "metadata": {},
   "outputs": [],
   "source": []
  }
 ],
 "metadata": {
  "kernelspec": {
   "display_name": "Python 3 (ipykernel)",
   "language": "python",
   "name": "python3"
  },
  "language_info": {
   "codemirror_mode": {
    "name": "ipython",
    "version": 3
   },
   "file_extension": ".py",
   "mimetype": "text/x-python",
   "name": "python",
   "nbconvert_exporter": "python",
   "pygments_lexer": "ipython3",
   "version": "3.9.12"
  }
 },
 "nbformat": 4,
 "nbformat_minor": 5
}
